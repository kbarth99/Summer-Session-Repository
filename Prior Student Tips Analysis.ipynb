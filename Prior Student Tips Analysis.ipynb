{
  "nbformat": 4,
  "nbformat_minor": 0,
  "metadata": {
    "colab": {
      "name": "TIPS.ipynb",
      "provenance": [],
      "collapsed_sections": []
    },
    "kernelspec": {
      "name": "python3",
      "display_name": "Python 3"
    },
    "language_info": {
      "name": "python"
    }
  },
  "cells": [
    {
      "cell_type": "code",
      "metadata": {
        "id": "6TJHWuiIZTkl"
      },
      "source": [
        "import pandas as pd"
      ],
      "execution_count": 1,
      "outputs": []
    },
    {
      "cell_type": "code",
      "metadata": {
        "id": "EQP5eV26ZqTv"
      },
      "source": [
        "xls = pd.ExcelFile('Copy of MSA22 STUDENT Master TIPS spreadsheet (Team 2 Copy).xlsx')\n",
        "df21 = pd.read_excel(xls, '2021')\n",
        "df20 = pd.read_excel(xls, '2020')\n",
        "df19 = pd.read_excel(xls, '2019')\n",
        "df18 = pd.read_excel(xls, '2018')\n",
        "df17 = pd.read_excel(xls, '2017')\n",
        "df16 = pd.read_excel(xls, '2016')"
      ],
      "execution_count": 2,
      "outputs": []
    },
    {
      "cell_type": "code",
      "metadata": {
        "colab": {
          "base_uri": "https://localhost:8080/"
        },
        "id": "aRZdZEO1abbX",
        "outputId": "f3981d0f-c6f7-4380-f886-835451c231e0"
      },
      "source": [
        "#importing package for text analysis\n",
        "import nltk\n",
        "nltk.download('punkt')\n",
        "nltk.download('stopwords')\n",
        "nltk.download('wordnet')\n",
        "import spacy\n",
        "nlp = spacy.load('en')\n",
        "from nltk.tokenize import word_tokenize\n",
        "from collections import Counter\n",
        "from nltk.corpus import stopwords"
      ],
      "execution_count": 3,
      "outputs": [
        {
          "output_type": "stream",
          "text": [
            "[nltk_data] Downloading package punkt to /root/nltk_data...\n",
            "[nltk_data]   Unzipping tokenizers/punkt.zip.\n",
            "[nltk_data] Downloading package stopwords to /root/nltk_data...\n",
            "[nltk_data]   Unzipping corpora/stopwords.zip.\n",
            "[nltk_data] Downloading package wordnet to /root/nltk_data...\n",
            "[nltk_data]   Unzipping corpora/wordnet.zip.\n"
          ],
          "name": "stdout"
        }
      ]
    },
    {
      "cell_type": "code",
      "metadata": {
        "id": "7PHgiNALb3R2"
      },
      "source": [
        "dflist=[df16,df17,df18,df19,df20,df21]"
      ],
      "execution_count": 4,
      "outputs": []
    },
    {
      "cell_type": "code",
      "metadata": {
        "id": "O3a8u14gcw1B"
      },
      "source": [
        "countdf = pd.DataFrame()\n",
        "year = 2016\n",
        "for df in dflist:\n",
        "  df=df.astype(str)\n",
        "  string=\"\"\n",
        "  for col in df:\n",
        "    for index, row in df.iterrows():\n",
        "      string= string +' '+row[col]\n",
        "  BoW = []\n",
        "  doc = nlp(string)\n",
        "  for token in doc:\n",
        "      BoW.append(token.text)\n",
        "  lower_tokens = [t.lower() for t in BoW]\n",
        "  no_stops = [t for t in lower_tokens\n",
        "            if t not in stopwords.words('english')]\n",
        "  no_punct = [w for w in no_stops\n",
        "        if w.isalpha()]\n",
        "  rcount = 0\n",
        "  pycount=0\n",
        "  sascount = 0\n",
        "  awscount = 0\n",
        "  for word in no_punct:\n",
        "    if word == 'r':\n",
        "      rcount= rcount+1\n",
        "    elif word =='python':\n",
        "      pycount= pycount+1\n",
        "    elif word =='sas':\n",
        "      sascount=sascount+1\n",
        "    elif word =='aws':\n",
        "      awscount=awscount+1\n",
        "    elif word == 'amazon':\n",
        "      awscount=awscount+1\n",
        "  code_list = [rcount,pycount,sascount,awscount]\n",
        "  countdf[year] = code_list\n",
        "  year= year+1\n",
        "  \n"
      ],
      "execution_count": 5,
      "outputs": []
    },
    {
      "cell_type": "code",
      "metadata": {
        "colab": {
          "base_uri": "https://localhost:8080/",
          "height": 172
        },
        "id": "6l5A2WT0qIji",
        "outputId": "1515a8ad-14f1-40d2-cdca-1f8ee55ffb96"
      },
      "source": [
        "countdf"
      ],
      "execution_count": 6,
      "outputs": [
        {
          "output_type": "execute_result",
          "data": {
            "text/html": [
              "<div>\n",
              "<style scoped>\n",
              "    .dataframe tbody tr th:only-of-type {\n",
              "        vertical-align: middle;\n",
              "    }\n",
              "\n",
              "    .dataframe tbody tr th {\n",
              "        vertical-align: top;\n",
              "    }\n",
              "\n",
              "    .dataframe thead th {\n",
              "        text-align: right;\n",
              "    }\n",
              "</style>\n",
              "<table border=\"1\" class=\"dataframe\">\n",
              "  <thead>\n",
              "    <tr style=\"text-align: right;\">\n",
              "      <th></th>\n",
              "      <th>2016</th>\n",
              "      <th>2017</th>\n",
              "      <th>2018</th>\n",
              "      <th>2019</th>\n",
              "      <th>2020</th>\n",
              "      <th>2021</th>\n",
              "    </tr>\n",
              "  </thead>\n",
              "  <tbody>\n",
              "    <tr>\n",
              "      <th>0</th>\n",
              "      <td>12</td>\n",
              "      <td>3</td>\n",
              "      <td>8</td>\n",
              "      <td>6</td>\n",
              "      <td>2</td>\n",
              "      <td>7</td>\n",
              "    </tr>\n",
              "    <tr>\n",
              "      <th>1</th>\n",
              "      <td>9</td>\n",
              "      <td>5</td>\n",
              "      <td>10</td>\n",
              "      <td>9</td>\n",
              "      <td>6</td>\n",
              "      <td>9</td>\n",
              "    </tr>\n",
              "    <tr>\n",
              "      <th>2</th>\n",
              "      <td>7</td>\n",
              "      <td>3</td>\n",
              "      <td>7</td>\n",
              "      <td>0</td>\n",
              "      <td>1</td>\n",
              "      <td>4</td>\n",
              "    </tr>\n",
              "    <tr>\n",
              "      <th>3</th>\n",
              "      <td>0</td>\n",
              "      <td>0</td>\n",
              "      <td>0</td>\n",
              "      <td>1</td>\n",
              "      <td>0</td>\n",
              "      <td>0</td>\n",
              "    </tr>\n",
              "  </tbody>\n",
              "</table>\n",
              "</div>"
            ],
            "text/plain": [
              "   2016  2017  2018  2019  2020  2021\n",
              "0    12     3     8     6     2     7\n",
              "1     9     5    10     9     6     9\n",
              "2     7     3     7     0     1     4\n",
              "3     0     0     0     1     0     0"
            ]
          },
          "metadata": {
            "tags": []
          },
          "execution_count": 6
        }
      ]
    },
    {
      "cell_type": "code",
      "metadata": {
        "id": "AhdHsNB9AbEu"
      },
      "source": [
        "commondf = pd.DataFrame()\n",
        "string=\"\"\n",
        "list = []\n",
        "for df in dflist:\n",
        "  df=df.astype(str)\n",
        "  \n",
        "  for col in df:\n",
        "    for index, row in df.iterrows():\n",
        "      string= string +' '+row[col]\n",
        "  string= string.lower()\n",
        "  doc = nlp(string)\n",
        "  for token in doc:\n",
        "    addition = ''\n",
        "    if token.dep_ == 'dobj':\n",
        "        addition = token.head.text + ' ' + token.text\n",
        "    if addition != '':\n",
        "      list.append(addition)\n",
        "  commondf[\"most\"]=Counter(list).most_common(10)"
      ],
      "execution_count": 7,
      "outputs": []
    },
    {
      "cell_type": "code",
      "metadata": {
        "id": "32OB9CzgQa8U",
        "colab": {
          "base_uri": "https://localhost:8080/",
          "height": 357
        },
        "outputId": "a599c452-f980-4c49-9b6d-d367d0a13d32"
      },
      "source": [
        "commondf"
      ],
      "execution_count": 8,
      "outputs": [
        {
          "output_type": "execute_result",
          "data": {
            "text/html": [
              "<div>\n",
              "<style scoped>\n",
              "    .dataframe tbody tr th:only-of-type {\n",
              "        vertical-align: middle;\n",
              "    }\n",
              "\n",
              "    .dataframe tbody tr th {\n",
              "        vertical-align: top;\n",
              "    }\n",
              "\n",
              "    .dataframe thead th {\n",
              "        text-align: right;\n",
              "    }\n",
              "</style>\n",
              "<table border=\"1\" class=\"dataframe\">\n",
              "  <thead>\n",
              "    <tr style=\"text-align: right;\">\n",
              "      <th></th>\n",
              "      <th>most</th>\n",
              "    </tr>\n",
              "  </thead>\n",
              "  <tbody>\n",
              "    <tr>\n",
              "      <th>0</th>\n",
              "      <td>(take time, 113)</td>\n",
              "    </tr>\n",
              "    <tr>\n",
              "      <th>1</th>\n",
              "      <td>(take advantage, 90)</td>\n",
              "    </tr>\n",
              "    <tr>\n",
              "      <th>2</th>\n",
              "      <td>(have fun, 70)</td>\n",
              "    </tr>\n",
              "    <tr>\n",
              "      <th>3</th>\n",
              "      <td>(trust process, 67)</td>\n",
              "    </tr>\n",
              "    <tr>\n",
              "      <th>4</th>\n",
              "      <td>(make friends, 66)</td>\n",
              "    </tr>\n",
              "    <tr>\n",
              "      <th>5</th>\n",
              "      <td>(pay attention, 59)</td>\n",
              "    </tr>\n",
              "    <tr>\n",
              "      <th>6</th>\n",
              "      <td>(help you, 56)</td>\n",
              "    </tr>\n",
              "    <tr>\n",
              "      <th>7</th>\n",
              "      <td>(do it, 55)</td>\n",
              "    </tr>\n",
              "    <tr>\n",
              "      <th>8</th>\n",
              "      <td>(take notes, 48)</td>\n",
              "    </tr>\n",
              "    <tr>\n",
              "      <th>9</th>\n",
              "      <td>(learn much, 48)</td>\n",
              "    </tr>\n",
              "  </tbody>\n",
              "</table>\n",
              "</div>"
            ],
            "text/plain": [
              "                   most\n",
              "0      (take time, 113)\n",
              "1  (take advantage, 90)\n",
              "2        (have fun, 70)\n",
              "3   (trust process, 67)\n",
              "4    (make friends, 66)\n",
              "5   (pay attention, 59)\n",
              "6        (help you, 56)\n",
              "7           (do it, 55)\n",
              "8      (take notes, 48)\n",
              "9      (learn much, 48)"
            ]
          },
          "metadata": {
            "tags": []
          },
          "execution_count": 8
        }
      ]
    },
    {
      "cell_type": "code",
      "metadata": {
        "id": "kDKhQNEKBklx"
      },
      "source": [
        "threedf = pd.DataFrame()\n",
        "year = 2016\n",
        "for df in dflist:\n",
        "  df=df.astype(str)\n",
        "  string=\"\"\n",
        "  list = []\n",
        "  for col in df:\n",
        "    for index, row in df.iterrows():\n",
        "      string= string +' '+row[col]\n",
        "  string= string.lower()\n",
        "  doc = nlp(string)\n",
        "  for token in doc:\n",
        "    addition = ''\n",
        "    if token.dep_ == 'pobj':\n",
        "      if token.head.dep_ == 'prep':\n",
        "        if token.head.head.pos_ == 'VERB':\n",
        "          addition = token.head.head.text + ' ' +token.head.text + ' ' + token.text\n",
        "    if addition != '':\n",
        "      list.append(addition)\n",
        "  threedf[year]=Counter(list).most_common(5)\n",
        "  year=year+1"
      ],
      "execution_count": 9,
      "outputs": []
    },
    {
      "cell_type": "code",
      "metadata": {
        "colab": {
          "base_uri": "https://localhost:8080/",
          "height": 203
        },
        "id": "BgLnKIcpCBH-",
        "outputId": "07e69974-c7dd-43f5-d9e3-99cb0700197d"
      },
      "source": [
        "threedf"
      ],
      "execution_count": 10,
      "outputs": [
        {
          "output_type": "execute_result",
          "data": {
            "text/html": [
              "<div>\n",
              "<style scoped>\n",
              "    .dataframe tbody tr th:only-of-type {\n",
              "        vertical-align: middle;\n",
              "    }\n",
              "\n",
              "    .dataframe tbody tr th {\n",
              "        vertical-align: top;\n",
              "    }\n",
              "\n",
              "    .dataframe thead th {\n",
              "        text-align: right;\n",
              "    }\n",
              "</style>\n",
              "<table border=\"1\" class=\"dataframe\">\n",
              "  <thead>\n",
              "    <tr style=\"text-align: right;\">\n",
              "      <th></th>\n",
              "      <th>2016</th>\n",
              "      <th>2017</th>\n",
              "      <th>2018</th>\n",
              "      <th>2019</th>\n",
              "      <th>2020</th>\n",
              "      <th>2021</th>\n",
              "    </tr>\n",
              "  </thead>\n",
              "  <tbody>\n",
              "    <tr>\n",
              "      <th>0</th>\n",
              "      <td>(ask for help, 3)</td>\n",
              "      <td>(ask for help, 3)</td>\n",
              "      <td>(take in work, 1)</td>\n",
              "      <td>(preparing for interviews, 3)</td>\n",
              "      <td>(ask for help, 3)</td>\n",
              "      <td>(take of yourself, 4)</td>\n",
              "    </tr>\n",
              "    <tr>\n",
              "      <th>1</th>\n",
              "      <td>(apply to jobs, 2)</td>\n",
              "      <td>(take during program, 2)</td>\n",
              "      <td>(pace during season, 1)</td>\n",
              "      <td>(ask for help, 3)</td>\n",
              "      <td>(work after graduation, 2)</td>\n",
              "      <td>(compare to others, 3)</td>\n",
              "    </tr>\n",
              "    <tr>\n",
              "      <th>2</th>\n",
              "      <td>(pay during class, 2)</td>\n",
              "      <td>(keep in mind, 2)</td>\n",
              "      <td>(go in career, 1)</td>\n",
              "      <td>(come because it, 1)</td>\n",
              "      <td>(stay in touch, 2)</td>\n",
              "      <td>(ask for help, 3)</td>\n",
              "    </tr>\n",
              "    <tr>\n",
              "      <th>3</th>\n",
              "      <td>(coming into program, 2)</td>\n",
              "      <td>(dealing with stress, 2)</td>\n",
              "      <td>(make with people, 1)</td>\n",
              "      <td>(interviewing with that, 1)</td>\n",
              "      <td>(go through program, 2)</td>\n",
              "      <td>(keep in mind, 3)</td>\n",
              "    </tr>\n",
              "    <tr>\n",
              "      <th>4</th>\n",
              "      <td>(know across cohorts, 2)</td>\n",
              "      <td>(while in program, 1)</td>\n",
              "      <td>(enjoy at iaa, 1)</td>\n",
              "      <td>(know about company, 1)</td>\n",
              "      <td>(come to you, 2)</td>\n",
              "      <td>(think of something, 2)</td>\n",
              "    </tr>\n",
              "  </tbody>\n",
              "</table>\n",
              "</div>"
            ],
            "text/plain": [
              "                       2016  ...                     2021\n",
              "0         (ask for help, 3)  ...    (take of yourself, 4)\n",
              "1        (apply to jobs, 2)  ...   (compare to others, 3)\n",
              "2     (pay during class, 2)  ...        (ask for help, 3)\n",
              "3  (coming into program, 2)  ...        (keep in mind, 3)\n",
              "4  (know across cohorts, 2)  ...  (think of something, 2)\n",
              "\n",
              "[5 rows x 6 columns]"
            ]
          },
          "metadata": {
            "tags": []
          },
          "execution_count": 10
        }
      ]
    }
  ]
}